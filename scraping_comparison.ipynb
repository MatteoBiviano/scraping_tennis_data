{
 "cells": [
  {
   "cell_type": "code",
   "execution_count": 1,
   "id": "d5d2b480",
   "metadata": {},
   "outputs": [],
   "source": [
    "import requests\n",
    "from bs4 import BeautifulSoup"
   ]
  },
  {
   "cell_type": "code",
   "execution_count": 2,
   "id": "ac8352c0",
   "metadata": {},
   "outputs": [],
   "source": [
    "def scrapy_player_data(name):\n",
    "    name = name.replace(\" \", \"+\")\n",
    "    url = f\"https://www.tennisexplorer.com/list-players/?search-text-pl={name}&country=\"\n",
    "    page = requests.get(url)\n",
    "   \n",
    "    find = False\n",
    "    for i in page.text.split(\">\"):\n",
    "        if \"/player\" in i:\n",
    "            if not find:\n",
    "                to_search = i.split(\"/\")[2]\n",
    "                find = True\n",
    "    url2 = f\"https://www.tennisexplorer.com/player/{to_search}/\"\n",
    "    page = requests.get(url2)\n",
    "    soup = BeautifulSoup(page.text, \"html.parser\")\n",
    "    scrapy_data = soup.find_all(\"div\",{\"class\": \"date\"})\n",
    "    d = dict(str(s).replace(\"<div class=\\\"date\\\">\", \"\").replace(\"</div>\", \"\").split(': ') for s in scrapy_data)\n",
    "    res_dt = {}\n",
    "    res_dt[\"Country\"] = d[\"Country\"]\n",
    "    res_dt[\"Height\"] = d[\"Height / Weight\"].replace(\" cm / \", \",\").replace(\" kg\", \"\").split(\",\")[0]\n",
    "    tmp = d[\"Age\"].replace(\". \", \"/\").replace(\")\", \"\").split(\" (\")\n",
    "    res_dt[\"Age\"] = tmp[0]\n",
    "    res_dt[\"Sex\"] = d[\"Sex\"]\n",
    "    res_dt[\"Plays\"] = d[\"Plays\"]\n",
    "    res_dt[\"YearOfBirth\"] = tmp[1]\n",
    "    return res_dt"
   ]
  },
  {
   "cell_type": "code",
   "execution_count": 3,
   "id": "e94e40a0",
   "metadata": {},
   "outputs": [],
   "source": [
    "import time"
   ]
  },
  {
   "cell_type": "code",
   "execution_count": 4,
   "id": "132b334a",
   "metadata": {},
   "outputs": [
    {
     "name": "stdout",
     "output_type": "stream",
     "text": [
      "--- Python scraping time = 0.5068256855010986 seconds ---\n",
      "{'Country': 'Russia', 'Height': '198', 'Age': '26', 'Sex': 'man', 'Plays': 'right', 'YearOfBirth': '11/2/1996'}\n"
     ]
    }
   ],
   "source": [
    "start_time = time.time()\n",
    "player_data = scrapy_player_data(\"Daniil Medved\")\n",
    "print(\"--- Python scraping time = %s seconds ---\" % (time.time() - start_time))\n",
    "print(player_data)"
   ]
  },
  {
   "cell_type": "code",
   "execution_count": 5,
   "id": "26a920f3",
   "metadata": {},
   "outputs": [
    {
     "data": {
      "text/plain": [
       "<PyCall.jlwrap scrapy>"
      ]
     },
     "execution_count": 5,
     "metadata": {},
     "output_type": "execute_result"
    }
   ],
   "source": [
    "from julia import Main\n",
    "Main.include(\"player_scraper.jl\")"
   ]
  },
  {
   "cell_type": "code",
   "execution_count": 15,
   "id": "5907bd39",
   "metadata": {},
   "outputs": [
    {
     "name": "stdout",
     "output_type": "stream",
     "text": [
      "--- Julia scraping time = 0.662243127822876 seconds ---\n",
      "<PyCall.jlwrap {\"Country\" = \" Russia\", \"Height\" = \"198\", \"Age\" = \"26\", \"Sex\" = \" man\", \"Plays\" = \" right\", \"YearOfBirth\" = \"11/2/1996\"}>\n"
     ]
    }
   ],
   "source": [
    "start_time = time.time()\n",
    "player_data = Main.scrapy(\"Daniil Medvedev\")\n",
    "print(\"--- Julia scraping time = %s seconds ---\" % (time.time() - start_time))\n",
    "print(player_data)"
   ]
  },
  {
   "cell_type": "code",
   "execution_count": 11,
   "id": "6de74c74",
   "metadata": {},
   "outputs": [],
   "source": [
    "import rpy2.robjects as robjects"
   ]
  },
  {
   "cell_type": "code",
   "execution_count": 12,
   "id": "2b1b324c",
   "metadata": {},
   "outputs": [
    {
     "name": "stdout",
     "output_type": "stream",
     "text": [
      "--- R scraping time = 0.5229387283325195 seconds ---\n"
     ]
    }
   ],
   "source": [
    "start_time = time.time()\n",
    "robjects.r['source']('player_scraper.R')\n",
    "scraped_data_r = robjects.r['scrapy'](\"Daniil Medvedev\")\n",
    "print(\"--- R scraping time = %s seconds ---\" % (time.time() - start_time))"
   ]
  },
  {
   "cell_type": "code",
   "execution_count": 13,
   "id": "ba797585",
   "metadata": {},
   "outputs": [],
   "source": [
    "def convert_rlist_to_dict(scraped_data_r):\n",
    "    scraped_data = []\n",
    "    for i in scraped_data_r:\n",
    "        scraped_data.append(i[0])\n",
    "    data_dict = {\"Country\": scraped_data[0], \"Height\": scraped_data[1],\"Age\": scraped_data[2],\n",
    "                 \"YearOfBirth\": scraped_data[3]+\"/\"+scraped_data[4]+\"/\"+scraped_data[5],\n",
    "                \"Sex\": scraped_data[6], \"Plays\": scraped_data[7]}\n",
    "    return data_dict"
   ]
  },
  {
   "cell_type": "code",
   "execution_count": 14,
   "id": "4cbfc26e",
   "metadata": {},
   "outputs": [
    {
     "data": {
      "text/plain": [
       "{'Country': 'Russia',\n",
       " 'Height': 198.0,\n",
       " 'Age': '26',\n",
       " 'YearOfBirth': '11/2/1996',\n",
       " 'Sex': 'man',\n",
       " 'Plays': 'right'}"
      ]
     },
     "execution_count": 14,
     "metadata": {},
     "output_type": "execute_result"
    }
   ],
   "source": [
    "data_dict = convert_rlist_to_dict(scraped_data_r)\n",
    "data_dict"
   ]
  },
  {
   "cell_type": "code",
   "execution_count": null,
   "id": "3fd5ac3c",
   "metadata": {},
   "outputs": [],
   "source": []
  }
 ],
 "metadata": {
  "kernelspec": {
   "display_name": "Python 3 (ipykernel)",
   "language": "python",
   "name": "python3"
  },
  "language_info": {
   "codemirror_mode": {
    "name": "ipython",
    "version": 3
   },
   "file_extension": ".py",
   "mimetype": "text/x-python",
   "name": "python",
   "nbconvert_exporter": "python",
   "pygments_lexer": "ipython3",
   "version": "3.10.1"
  }
 },
 "nbformat": 4,
 "nbformat_minor": 5
}

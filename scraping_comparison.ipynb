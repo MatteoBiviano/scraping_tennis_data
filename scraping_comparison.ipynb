{
 "cells": [
  {
   "cell_type": "code",
   "execution_count": 3,
   "id": "e94e40a0",
   "metadata": {},
   "outputs": [],
   "source": [
    "import time"
   ]
  },
  {
   "cell_type": "code",
   "execution_count": 2,
   "id": "26a920f3",
   "metadata": {},
   "outputs": [
    {
     "data": {
      "text/plain": [
       "<PyCall.jlwrap scrapy>"
      ]
     },
     "execution_count": 2,
     "metadata": {},
     "output_type": "execute_result"
    }
   ],
   "source": [
    "from julia import Main\n",
    "Main.include(\"player_scraper.jl\")"
   ]
  },
  {
   "cell_type": "code",
   "execution_count": 21,
   "id": "5907bd39",
   "metadata": {},
   "outputs": [
    {
     "name": "stdout",
     "output_type": "stream",
     "text": [
      "--- 0.6367573738098145 seconds ---\n",
      "<PyCall.jlwrap {\"Country\" = \" Russia\", \"Height\" = \"198\", \"Age\" = \"26\", \"Sex\" = \" man\", \"Plays\" = \" right\", \"YearOfBirth\" = \"11/2/1996\"}>\n"
     ]
    }
   ],
   "source": [
    "start_time = time.time()\n",
    "player_data = Main.scrapy(\"Daniil Medvedev\")\n",
    "print(\"--- %s seconds ---\" % (time.time() - start_time))\n",
    "print(player_data)"
   ]
  },
  {
   "cell_type": "code",
   "execution_count": 10,
   "id": "6de74c74",
   "metadata": {},
   "outputs": [],
   "source": [
    "import rpy2.robjects as robjects"
   ]
  },
  {
   "cell_type": "code",
   "execution_count": 18,
   "id": "d8281360",
   "metadata": {},
   "outputs": [],
   "source": [
    "example_name_player = \"Daniil Medvedev\""
   ]
  },
  {
   "cell_type": "code",
   "execution_count": 50,
   "id": "2b1b324c",
   "metadata": {},
   "outputs": [
    {
     "name": "stdout",
     "output_type": "stream",
     "text": [
      "--- 0.6949388980865479 seconds ---\n"
     ]
    }
   ],
   "source": [
    "start_time = time.time()\n",
    "robjects.r['source']('player_scraper.R')\n",
    "scraped_data_r = robjects.r['scrapy'](example_name_player)\n",
    "print(\"--- %s seconds ---\" % (time.time() - start_time))"
   ]
  },
  {
   "cell_type": "code",
   "execution_count": 54,
   "id": "ba797585",
   "metadata": {},
   "outputs": [],
   "source": [
    "def convert_rlist_to_dict(scraped_data_r):\n",
    "    scraped_data = []\n",
    "    for i in scraped_data_r:\n",
    "        scraped_data.append(i[0])\n",
    "    data_dict = {\"Country\": scraped_data[0], \"Height\": scraped_data[1],\"Age\": scraped_data[2],\n",
    "                 \"YearOfBirth\": scraped_data[3]+\"/\"+scraped_data[4]+\"/\"+scraped_data[5],\n",
    "                \"Sex\": scraped_data[6], \"Plays\": scraped_data[7]}\n",
    "    return data_dict"
   ]
  },
  {
   "cell_type": "code",
   "execution_count": 56,
   "id": "4cbfc26e",
   "metadata": {},
   "outputs": [
    {
     "data": {
      "text/plain": [
       "{'Country': 'Russia',\n",
       " 'Height': 198.0,\n",
       " 'Age': '26',\n",
       " 'YearOfBirth': '11/2/1996',\n",
       " 'Sex': 'man',\n",
       " 'Plays': 'right'}"
      ]
     },
     "execution_count": 56,
     "metadata": {},
     "output_type": "execute_result"
    }
   ],
   "source": [
    "data_dict = convert_rlist_to_dict(scraped_data_r)\n",
    "data_dict"
   ]
  },
  {
   "cell_type": "code",
   "execution_count": null,
   "id": "3fd5ac3c",
   "metadata": {},
   "outputs": [],
   "source": []
  }
 ],
 "metadata": {
  "kernelspec": {
   "display_name": "Python 3 (ipykernel)",
   "language": "python",
   "name": "python3"
  },
  "language_info": {
   "codemirror_mode": {
    "name": "ipython",
    "version": 3
   },
   "file_extension": ".py",
   "mimetype": "text/x-python",
   "name": "python",
   "nbconvert_exporter": "python",
   "pygments_lexer": "ipython3",
   "version": "3.10.1"
  }
 },
 "nbformat": 4,
 "nbformat_minor": 5
}
